{
 "cells": [
  {
   "cell_type": "code",
   "execution_count": 1,
   "id": "678699a0-0ed0-4634-b2f8-ec61127996b1",
   "metadata": {},
   "outputs": [
    {
     "name": "stdout",
     "output_type": "stream",
     "text": [
      "                 date  Temperature  Humidity  Light     CO2  HumidityRatio  \\\n",
      "1 2015-02-04 17:51:00        23.18   27.2720  426.0  721.25       0.004793   \n",
      "2 2015-02-04 17:51:59        23.15   27.2675  429.5  714.00       0.004783   \n",
      "3 2015-02-04 17:53:00        23.15   27.2450  426.0  713.50       0.004779   \n",
      "4 2015-02-04 17:54:00        23.15   27.2000  426.0  708.25       0.004772   \n",
      "5 2015-02-04 17:55:00        23.10   27.2000  426.0  704.50       0.004757   \n",
      "\n",
      "   Occupancy  hour  minute  \n",
      "1          1    17      51  \n",
      "2          1    17      51  \n",
      "3          1    17      53  \n",
      "4          1    17      54  \n",
      "5          1    17      55  \n"
     ]
    }
   ],
   "source": [
    "import os\n",
    "import pandas as pd\n",
    "\n",
    "current_dir = os.getcwd()\n",
    "\n",
    "#import dataset\n",
    "df = pd.read_csv('../data/datatraining.txt', delimiter=',')\n",
    "\n",
    "#parse date column as datetime\n",
    "df['date'] = pd.to_datetime(df['date'])\n",
    "\n",
    "#extract hour & min to new separate columns\n",
    "df['hour'] = df['date'].dt.hour\n",
    "df['minute'] = df['date'].dt.minute\n",
    "\n",
    "#keep date only in 'date' column\n",
    "#df['date'] = df['date'].dt.date\n",
    "\n",
    "#display df header\n",
    "print(df.head()) \n",
    "\n"
   ]
  },
  {
   "cell_type": "code",
   "execution_count": null,
   "id": "115e00d0-cad3-4659-be18-faf3cfd716d3",
   "metadata": {},
   "outputs": [],
   "source": []
  }
 ],
 "metadata": {
  "kernelspec": {
   "display_name": "Python [conda env:base] *",
   "language": "python",
   "name": "conda-base-py"
  },
  "language_info": {
   "codemirror_mode": {
    "name": "ipython",
    "version": 3
   },
   "file_extension": ".py",
   "mimetype": "text/x-python",
   "name": "python",
   "nbconvert_exporter": "python",
   "pygments_lexer": "ipython3",
   "version": "3.12.7"
  }
 },
 "nbformat": 4,
 "nbformat_minor": 5
}
