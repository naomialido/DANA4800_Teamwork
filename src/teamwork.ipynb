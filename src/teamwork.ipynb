{
 "cells": [
  {
   "cell_type": "code",
   "execution_count": 4,
   "id": "678699a0-0ed0-4634-b2f8-ec61127996b1",
   "metadata": {},
   "outputs": [
    {
     "name": "stdout",
     "output_type": "stream",
     "text": [
      "                 date  hour  minute  Temperature  Humidity  Light     CO2  \\\n",
      "1 2015-02-04 17:51:00    17      51        23.18   27.2720  426.0  721.25   \n",
      "2 2015-02-04 17:51:59    17      51        23.15   27.2675  429.5  714.00   \n",
      "3 2015-02-04 17:53:00    17      53        23.15   27.2450  426.0  713.50   \n",
      "4 2015-02-04 17:54:00    17      54        23.15   27.2000  426.0  708.25   \n",
      "5 2015-02-04 17:55:00    17      55        23.10   27.2000  426.0  704.50   \n",
      "\n",
      "   HumidityRatio  Occupancy  \n",
      "1       0.004793          1  \n",
      "2       0.004783          1  \n",
      "3       0.004779          1  \n",
      "4       0.004772          1  \n",
      "5       0.004757          1  \n"
     ]
    }
   ],
   "source": [
    "import os\n",
    "import pandas as pd\n",
    "\n",
    "current_dir = os.getcwd()\n",
    "\n",
    "#import dataset\n",
    "df = pd.read_csv('../data/datatraining.txt', delimiter=',')\n",
    "\n",
    "#parse date column as datetime\n",
    "df['date'] = pd.to_datetime(df['date'])\n",
    "\n",
    "#extract hour & min to new separate columns\n",
    "df['hour'] = df['date'].dt.hour\n",
    "df['minute'] = df['date'].dt.minute\n",
    "\n",
    "#keep date only in 'date' column\n",
    "#df['date'] = df['date'].dt.date\n",
    "\n",
    "#reorder columns\n",
    "df.insert(1, 'hour', df.pop('hour'))\n",
    "df.insert(2, 'minute', df.pop('minute'))\n",
    "\n",
    "#display df headeer\n",
    "print(df.head()) \n",
    "\n"
   ]
  },
  {
   "cell_type": "code",
   "execution_count": null,
   "id": "115e00d0-cad3-4659-be18-faf3cfd716d3",
   "metadata": {},
   "outputs": [],
   "source": []
  }
 ],
 "metadata": {
  "kernelspec": {
   "display_name": "Python 3 (ipykernel)",
   "language": "python",
   "name": "python3"
  },
  "language_info": {
   "codemirror_mode": {
    "name": "ipython",
    "version": 3
   },
   "file_extension": ".py",
   "mimetype": "text/x-python",
   "name": "python",
   "nbconvert_exporter": "python",
   "pygments_lexer": "ipython3",
   "version": "3.12.7"
  }
 },
 "nbformat": 4,
 "nbformat_minor": 5
}
